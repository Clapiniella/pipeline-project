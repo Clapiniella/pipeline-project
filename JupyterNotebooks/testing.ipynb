{
 "cells": [
  {
   "cell_type": "code",
   "execution_count": 2,
   "metadata": {},
   "outputs": [],
   "source": [
    "import pandas as pd\n",
    "import re \n",
    "import numpy as np\n",
    "\n",
    "df=pd.read_csv(\"./MissingMigrants-Global-2019-03-29T18-36-07.csv\")"
   ]
  },
  {
   "cell_type": "code",
   "execution_count": 3,
   "metadata": {},
   "outputs": [
    {
     "name": "stdout",
     "output_type": "stream",
     "text": [
      "   Web ID Region of Incident   Reported Date  Reported Year Reported Month  \\\n",
      "0   51591      Mediterranean  March 28, 2019           2019            Mar   \n",
      "1   51588      Mediterranean  March 26, 2019           2019            Mar   \n",
      "2   51589      Mediterranean  March 26, 2019           2019            Mar   \n",
      "3   51590      Mediterranean  March 26, 2019           2019            Mar   \n",
      "4   51587    Central America  March 25, 2019           2019            Mar   \n",
      "5   51580   US-Mexico Border  March 23, 2019           2019            Mar   \n",
      "6   51581   US-Mexico Border  March 23, 2019           2019            Mar   \n",
      "7   51585     Southeast Asia  March 23, 2019           2019            Mar   \n",
      "8   51586      Mediterranean  March 23, 2019           2019            Mar   \n",
      "9   51578   US-Mexico Border  March 21, 2019           2019            Mar   \n",
      "\n",
      "   Number Dead  Minimum Estimated Number of Missing  Total Dead and Missing  \\\n",
      "0          NaN                                  2.0                       2   \n",
      "1          4.0                                  NaN                       4   \n",
      "2          1.0                                  NaN                       1   \n",
      "3          1.0                                  NaN                       1   \n",
      "4          1.0                                  NaN                       1   \n",
      "5          1.0                                  NaN                       1   \n",
      "6          1.0                                  NaN                       1   \n",
      "7          8.0                                  2.0                      10   \n",
      "8          4.0                                  4.0                       8   \n",
      "9          1.0                                  NaN                       1   \n",
      "\n",
      "   Number of Survivors  Number of Females  Number of Males  \\\n",
      "0                 36.0                NaN              2.0   \n",
      "1                 11.0                3.0              NaN   \n",
      "2                  NaN                NaN              NaN   \n",
      "3                  NaN                NaN              NaN   \n",
      "4                  NaN                NaN              1.0   \n",
      "5                  NaN                NaN              NaN   \n",
      "6                  NaN                NaN              NaN   \n",
      "7                  NaN                1.0              NaN   \n",
      "8                  NaN                3.0              5.0   \n",
      "9                  NaN                NaN              NaN   \n",
      "\n",
      "   Number of Children              Cause of Death  \\\n",
      "0                 NaN           Presumed drowning   \n",
      "1                 1.0           Presumed drowning   \n",
      "2                 NaN           Presumed drowning   \n",
      "3                 NaN           Presumed drowning   \n",
      "4                 NaN             Fall from train   \n",
      "5                 NaN  Unknown (skeletal remains)   \n",
      "6                 NaN  Unknown (skeletal remains)   \n",
      "7                 NaN            Vehicle Accident   \n",
      "8                 NaN           Presumed drowning   \n",
      "9                 NaN  Unknown (skeletal remains)   \n",
      "\n",
      "                                Location Description  \\\n",
      "0                     Off the coast of Chios, Greece   \n",
      "1  Off the coast of Ayvacık district, Çanakkale p...   \n",
      "2  Body recovered on Playa del Tarajal, Ceuta, Sp...   \n",
      "3  Body recovered on beach near Tetouan, Morocco ...   \n",
      "4         Train tracks in Teacalco, Tlaxcala, Mexico   \n",
      "5             Pima County jurisdiction, Arizona, USA   \n",
      "6             Pima County jurisdiction, Arizona, USA   \n",
      "7  Sa Setthi intersection in Tambon Ban Mai, Tha ...   \n",
      "8                     Off the coast of Sfax, Tunisia   \n",
      "9             Pima County jurisdiction, Arizona, USA   \n",
      "\n",
      "                           Information Source  \\\n",
      "0         Hellenic Coast Guard via IOM Greece   \n",
      "1          Turkish Coast Guard via IOM Turkey   \n",
      "2            Ceuta al día, El Pueblo de Ceuta   \n",
      "3                          El Pueblo de Ceuta   \n",
      "4             Megalópolis, Línea de contraste   \n",
      "5  Pima County Office of the Medical Examiner   \n",
      "6  Pima County Office of the Medical Examiner   \n",
      "7                        The Nation, Vietnam+   \n",
      "8      Shems FM, Tunisie Numérique, Kapitalis   \n",
      "9  Pima County Office of the Medical Examiner   \n",
      "\n",
      "                 Location Coordinates        Migration Route  \\\n",
      "0    38.362368696592, 26.172509473654  Eastern Mediterranean   \n",
      "1    39.441975591614, 26.378816195919  Eastern Mediterranean   \n",
      "2    35.871901875921, -5.343037665842  Western Mediterranean   \n",
      "3    35.635115912988, -5.275650103548  Western Mediterranean   \n",
      "4   19.334475177429, -98.069823987538                    NaN   \n",
      "5  32.057499000000, -111.666072500000                    NaN   \n",
      "6  32.057499000000, -111.666072500000                    NaN   \n",
      "7    13.865704814542, 99.587248723929                    NaN   \n",
      "8    35.317034468315, 11.078928258810  Central Mediterranean   \n",
      "9  32.057499000000, -111.666072500000                    NaN   \n",
      "\n",
      "                                                 URL  \\\n",
      "0                                                NaN   \n",
      "1                              http://bit.ly/2YmiPAN   \n",
      "2       http://bit.ly/2uyj7qO, http://bit.ly/2uwj5zC   \n",
      "3                              http://bit.ly/2uwj5zC   \n",
      "4       http://bit.ly/2uvDIvH, http://bit.ly/2TXAFLS   \n",
      "5                     http://www.humaneborders.info/   \n",
      "6                     http://www.humaneborders.info/   \n",
      "7       http://bit.ly/2YqrMsT, http://bit.ly/2TzbavA   \n",
      "8  http://bit.ly/2U1K4C4, http://bit.ly/2HJW70B, ...   \n",
      "9                     http://www.humaneborders.info/   \n",
      "\n",
      "  UNSD Geographical Grouping  Source Quality  \n",
      "0              Uncategorized               5  \n",
      "1              Uncategorized               5  \n",
      "2              Uncategorized               3  \n",
      "3              Uncategorized               1  \n",
      "4            Central America               3  \n",
      "5           Northern America               5  \n",
      "6           Northern America               5  \n",
      "7         South-eastern Asia               3  \n",
      "8              Uncategorized               3  \n",
      "9           Northern America               5  \n"
     ]
    }
   ],
   "source": [
    "print(df.head(10))"
   ]
  },
  {
   "cell_type": "code",
   "execution_count": 4,
   "metadata": {},
   "outputs": [
    {
     "name": "stdout",
     "output_type": "stream",
     "text": [
      "['Web ID', 'Region of Incident', 'Reported Date', 'Reported Year', 'Reported Month', 'Number Dead', 'Minimum Estimated Number of Missing', 'Total Dead and Missing', 'Number of Survivors', 'Number of Females', 'Number of Males', 'Number of Children', 'Cause of Death', 'Location Description', 'Information Source', 'Location Coordinates', 'Migration Route', 'URL', 'UNSD Geographical Grouping', 'Source Quality']\n"
     ]
    }
   ],
   "source": [
    "file_list = [f for f in df]\n",
    "print(file_list)"
   ]
  },
  {
   "cell_type": "code",
   "execution_count": 5,
   "metadata": {},
   "outputs": [
    {
     "name": "stdout",
     "output_type": "stream",
     "text": [
      "(5333, 20)\n",
      "Web ID                                   int64\n",
      "Region of Incident                      object\n",
      "Reported Date                           object\n",
      "Reported Year                            int64\n",
      "Reported Month                          object\n",
      "Number Dead                            float64\n",
      "Minimum Estimated Number of Missing    float64\n",
      "Total Dead and Missing                   int64\n",
      "Number of Survivors                    float64\n",
      "Number of Females                      float64\n",
      "Number of Males                        float64\n",
      "Number of Children                     float64\n",
      "Cause of Death                          object\n",
      "Location Description                    object\n",
      "Information Source                      object\n",
      "Location Coordinates                    object\n",
      "Migration Route                         object\n",
      "URL                                     object\n",
      "UNSD Geographical Grouping              object\n",
      "Source Quality                           int64\n",
      "dtype: object\n"
     ]
    }
   ],
   "source": [
    "print(df.shape)\n",
    "print(df.dtypes)\n",
    "null_cols= df.isnull().sum()"
   ]
  },
  {
   "cell_type": "code",
   "execution_count": 6,
   "metadata": {},
   "outputs": [
    {
     "name": "stdout",
     "output_type": "stream",
     "text": [
      "Web ID                                    0\n",
      "Region of Incident                        0\n",
      "Reported Date                             0\n",
      "Reported Year                             0\n",
      "Reported Month                            0\n",
      "Number Dead                             191\n",
      "Minimum Estimated Number of Missing    4830\n",
      "Total Dead and Missing                    0\n",
      "Number of Survivors                    4584\n",
      "Number of Females                      4436\n",
      "Number of Males                        2520\n",
      "Number of Children                     4689\n",
      "Cause of Death                            0\n",
      "Location Description                     10\n",
      "Information Source                        2\n",
      "Location Coordinates                      1\n",
      "Migration Route                        2673\n",
      "URL                                    2141\n",
      "UNSD Geographical Grouping               11\n",
      "Source Quality                            0\n",
      "dtype: int64\n"
     ]
    }
   ],
   "source": [
    "print(null_cols)"
   ]
  },
  {
   "cell_type": "code",
   "execution_count": 9,
   "metadata": {},
   "outputs": [
    {
     "data": {
      "text/plain": [
       "Central America to US                        1507\n",
       "Central Mediterranean                         499\n",
       "Western Mediterranean                         255\n",
       "Eastern Mediterranean                         230\n",
       "Western Balkans                                64\n",
       "Calais to United Kingdom                       51\n",
       "Western African                                15\n",
       "Horn Africa to Yemen                           15\n",
       "Italy to France                                 9\n",
       "Darien Gap                                      7\n",
       "Caribbean to Central America                    3\n",
       "Dominican Republic to Puerto Rico               2\n",
       "From Haiti to Dajabon, Dominican Republic       1\n",
       "Venezuela to Curaçao                            1\n",
       "Malaysia to Indonesia                           1\n",
       "Name: Migration Route, dtype: int64"
      ]
     },
     "metadata": {},
     "output_type": "display_data"
    }
   ],
   "source": [
    "counts = df['Migration Route'].value_counts()\n",
    "display(counts)"
   ]
  },
  {
   "cell_type": "code",
   "execution_count": null,
   "metadata": {},
   "outputs": [],
   "source": []
  }
 ],
 "metadata": {
  "kernelspec": {
   "display_name": "Python 3",
   "language": "python",
   "name": "python3"
  },
  "language_info": {
   "codemirror_mode": {
    "name": "ipython",
    "version": 3
   },
   "file_extension": ".py",
   "mimetype": "text/x-python",
   "name": "python",
   "nbconvert_exporter": "python",
   "pygments_lexer": "ipython3",
   "version": "3.7.5rc1"
  }
 },
 "nbformat": 4,
 "nbformat_minor": 2
}
